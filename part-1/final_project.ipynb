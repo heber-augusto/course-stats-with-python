{
  "nbformat": 4,
  "nbformat_minor": 0,
  "metadata": {
    "colab": {
      "name": "Análise_Descritiva.ipynb",
      "provenance": [],
      "toc_visible": true
    },
    "kernelspec": {
      "display_name": "Python 3",
      "language": "python",
      "name": "python3"
    },
    "language_info": {
      "codemirror_mode": {
        "name": "ipython",
        "version": 3
      },
      "file_extension": ".py",
      "mimetype": "text/x-python",
      "name": "python",
      "nbconvert_exporter": "python",
      "pygments_lexer": "ipython3",
      "version": "3.6.5"
    }
  },
  "cells": [
    {
      "cell_type": "markdown",
      "metadata": {
        "id": "WvMflodMjQKe"
      },
      "source": [
        "***\n",
        "# <font color=green size=10>CURSO DE ESTATÍSTICA - PARTE 1</font>\n",
        "***\n",
        "\n",
        "## Trabalho de Análise Descritiva de um Conjunto de Dados\n",
        "\n",
        "Utilizando os conhecimentos adquiridos em nosso treinamento realize uma análise descritiva básica de um conjunto de dados retirados da Pesquisa Nacional por Amostra de Domicílios - 2015 do IBGE. \n",
        "\n",
        "Vamos construir histogramas, calcular e avaliar medidas de tendência central, medidas separatrizes e de dispersão dos dados.\n",
        "\n",
        "Siga o roteiro proposto e vá completando as células vazias. Procure pensar em mais informações interessantes que podem ser exploradas em nosso dataset."
      ]
    },
    {
      "cell_type": "markdown",
      "metadata": {
        "id": "cVgsZ_E3jQKg"
      },
      "source": [
        "# <font color=green>DATASET DO PROJETO</font>\n",
        "***"
      ]
    },
    {
      "cell_type": "markdown",
      "metadata": {
        "id": "iN1gIbaKjQKh"
      },
      "source": [
        "### Pesquisa Nacional por Amostra de Domicílios - 2015\n",
        "\n",
        "A <b>Pesquisa Nacional por Amostra de Domicílios - PNAD</b> investiga anualmente, de forma permanente, características gerais da população, de educação, trabalho, rendimento e habitação e outras, com periodicidade variável, de acordo com as necessidades de informação para o país, como as características sobre migração, fecundidade, nupcialidade, saúde, segurança alimentar, entre outros temas. O levantamento dessas estatísticas constitui, ao longo dos 49 anos de realização da pesquisa, um importante instrumento para formulação, validação e avaliação de políticas orientadas para o desenvolvimento socioeconômico e a melhoria das condições de vida no Brasil."
      ]
    },
    {
      "cell_type": "markdown",
      "metadata": {
        "id": "U6V7br1RjQKi"
      },
      "source": [
        "### Fonte dos Dados\n",
        "\n",
        "https://ww2.ibge.gov.br/home/estatistica/populacao/trabalhoerendimento/pnad2015/microdados.shtm"
      ]
    },
    {
      "cell_type": "markdown",
      "metadata": {
        "id": "r0Fe_qnzjQKj"
      },
      "source": [
        "### Variáveis utilizadas\n",
        "\n",
        "> ### Renda\n",
        "> ***\n",
        "\n",
        "Rendimento mensal do trabalho principal para pessoas de 10 anos ou mais de idade.\n",
        "\n",
        "> ### Idade\n",
        "> ***\n",
        "\n",
        "Idade do morador na data de referência em anos.\n",
        "\n",
        "> ### Altura (elaboração própria)\n",
        "> ***\n",
        "\n",
        "Altura do morador em metros.\n",
        "\n",
        "> ### UF\n",
        "> ***\n",
        "\n",
        "|Código|Descrição|\n",
        "|---|---|\n",
        "|11|Rondônia|\n",
        "|12|Acre|\n",
        "|13|Amazonas|\n",
        "|14|Roraima|\n",
        "|15|Pará|\n",
        "|16|Amapá|\n",
        "|17|Tocantins|\n",
        "|21|Maranhão|\n",
        "|22|Piauí|\n",
        "|23|Ceará|\n",
        "|24|Rio Grande do Norte|\n",
        "|25|Paraíba|\n",
        "|26|Pernambuco|\n",
        "|27|Alagoas|\n",
        "|28|Sergipe|\n",
        "|29|Bahia|\n",
        "|31|Minas Gerais|\n",
        "|32|Espírito Santo|\n",
        "|33|Rio de Janeiro|\n",
        "|35|São Paulo|\n",
        "|41|Paraná|\n",
        "|42|Santa Catarina|\n",
        "|43|Rio Grande do Sul|\n",
        "|50|Mato Grosso do Sul|\n",
        "|51|Mato Grosso|\n",
        "|52|Goiás|\n",
        "|53|Distrito Federal|\n",
        "\n",
        "> ### Sexo\t\n",
        "> ***\n",
        "\n",
        "|Código|Descrição|\n",
        "|---|---|\n",
        "|0|Masculino|\n",
        "|1|Feminino|\n",
        "\n",
        "> ### Anos de Estudo\n",
        "> ***\n",
        "\n",
        "|Código|Descrição|\n",
        "|---|---|\n",
        "|1|Sem instrução e menos de 1 ano|\n",
        "|2|1 ano|\n",
        "|3|2 anos|\n",
        "|4|3 anos|\n",
        "|5|4 anos|\n",
        "|6|5 anos|\n",
        "|7|6 anos|\n",
        "|8|7 anos|\n",
        "|9|8 anos|\n",
        "|10|9 anos|\n",
        "|11|10 anos|\n",
        "|12|11 anos|\n",
        "|13|12 anos|\n",
        "|14|13 anos|\n",
        "|15|14 anos|\n",
        "|16|15 anos ou mais|\n",
        "|17|Não determinados| \n",
        "||Não aplicável|\n",
        "\n",
        "> ### Cor\n",
        "> ***\n",
        "\n",
        "|Código|Descrição|\n",
        "|---|---|\n",
        "|0|Indígena|\n",
        "|2|Branca|\n",
        "|4|Preta|\n",
        "|6|Amarela|\n",
        "|8|Parda|\n",
        "|9|Sem declaração|"
      ]
    },
    {
      "cell_type": "markdown",
      "metadata": {
        "id": "OK1IQH5cX7Gb"
      },
      "source": [
        "#### <font color='red'>Observação</font>\n",
        "***\n",
        "> Os seguintes tratamentos foram realizados nos dados originais:\n",
        "> 1. Foram eliminados os registros onde a <b>Renda</b> era inválida (999 999 999 999);\n",
        "> 2. Foram eliminados os registros onde a <b>Renda</b> era missing;\n",
        "> 3. Foram considerados somente os registros das <b>Pessoas de Referência</b> de cada domicílio (responsável pelo domicílio)."
      ]
    },
    {
      "cell_type": "markdown",
      "metadata": {
        "id": "ZIqLOffNTg1Y"
      },
      "source": [
        "***\n",
        "***"
      ]
    },
    {
      "cell_type": "markdown",
      "metadata": {
        "id": "8Rw70V6ojQKk"
      },
      "source": [
        "### Utilize a célula abaixo para importar as biblioteca que precisar para executar as tarefas"
      ]
    },
    {
      "cell_type": "code",
      "metadata": {
        "id": "fcTgimHBybMz"
      },
      "source": [
        "import pandas as pd\n",
        "import numpy as np\n",
        "import seaborn as sns"
      ],
      "execution_count": 1,
      "outputs": []
    },
    {
      "cell_type": "markdown",
      "metadata": {
        "id": "2a-gvBvCULwt"
      },
      "source": [
        "### Importe o dataset e armazene o conteúdo em uma DataFrame"
      ]
    },
    {
      "cell_type": "code",
      "metadata": {
        "id": "ufRZ7TLwjQKo"
      },
      "source": [
        "dados = pd.read_csv('dados.csv')"
      ],
      "execution_count": 5,
      "outputs": []
    },
    {
      "cell_type": "markdown",
      "metadata": {
        "id": "Oq3CKHCmTg1j"
      },
      "source": [
        "### Visualize o conteúdo do DataFrame"
      ]
    },
    {
      "cell_type": "code",
      "metadata": {
        "colab": {
          "base_uri": "https://localhost:8080/",
          "height": 202
        },
        "id": "GsC_WhLFjQKq",
        "scrolled": true,
        "outputId": "ba9c1c20-63d9-4507-f8b0-6c4681c06d91"
      },
      "source": [
        "dados.head()"
      ],
      "execution_count": 6,
      "outputs": [
        {
          "output_type": "execute_result",
          "data": {
            "text/html": [
              "<div>\n",
              "<style scoped>\n",
              "    .dataframe tbody tr th:only-of-type {\n",
              "        vertical-align: middle;\n",
              "    }\n",
              "\n",
              "    .dataframe tbody tr th {\n",
              "        vertical-align: top;\n",
              "    }\n",
              "\n",
              "    .dataframe thead th {\n",
              "        text-align: right;\n",
              "    }\n",
              "</style>\n",
              "<table border=\"1\" class=\"dataframe\">\n",
              "  <thead>\n",
              "    <tr style=\"text-align: right;\">\n",
              "      <th></th>\n",
              "      <th>UF</th>\n",
              "      <th>Sexo</th>\n",
              "      <th>Idade</th>\n",
              "      <th>Cor</th>\n",
              "      <th>Anos de Estudo</th>\n",
              "      <th>Renda</th>\n",
              "      <th>Altura</th>\n",
              "    </tr>\n",
              "  </thead>\n",
              "  <tbody>\n",
              "    <tr>\n",
              "      <th>0</th>\n",
              "      <td>11</td>\n",
              "      <td>0</td>\n",
              "      <td>23</td>\n",
              "      <td>8</td>\n",
              "      <td>12</td>\n",
              "      <td>800</td>\n",
              "      <td>1.603808</td>\n",
              "    </tr>\n",
              "    <tr>\n",
              "      <th>1</th>\n",
              "      <td>11</td>\n",
              "      <td>1</td>\n",
              "      <td>23</td>\n",
              "      <td>2</td>\n",
              "      <td>12</td>\n",
              "      <td>1150</td>\n",
              "      <td>1.739790</td>\n",
              "    </tr>\n",
              "    <tr>\n",
              "      <th>2</th>\n",
              "      <td>11</td>\n",
              "      <td>1</td>\n",
              "      <td>35</td>\n",
              "      <td>8</td>\n",
              "      <td>15</td>\n",
              "      <td>880</td>\n",
              "      <td>1.760444</td>\n",
              "    </tr>\n",
              "    <tr>\n",
              "      <th>3</th>\n",
              "      <td>11</td>\n",
              "      <td>0</td>\n",
              "      <td>46</td>\n",
              "      <td>2</td>\n",
              "      <td>6</td>\n",
              "      <td>3500</td>\n",
              "      <td>1.783158</td>\n",
              "    </tr>\n",
              "    <tr>\n",
              "      <th>4</th>\n",
              "      <td>11</td>\n",
              "      <td>1</td>\n",
              "      <td>47</td>\n",
              "      <td>8</td>\n",
              "      <td>9</td>\n",
              "      <td>150</td>\n",
              "      <td>1.690631</td>\n",
              "    </tr>\n",
              "  </tbody>\n",
              "</table>\n",
              "</div>"
            ],
            "text/plain": [
              "   UF  Sexo  Idade  Cor  Anos de Estudo  Renda    Altura\n",
              "0  11     0     23    8              12    800  1.603808\n",
              "1  11     1     23    2              12   1150  1.739790\n",
              "2  11     1     35    8              15    880  1.760444\n",
              "3  11     0     46    2               6   3500  1.783158\n",
              "4  11     1     47    8               9    150  1.690631"
            ]
          },
          "metadata": {
            "tags": []
          },
          "execution_count": 6
        }
      ]
    },
    {
      "cell_type": "markdown",
      "metadata": {
        "id": "HDrFJQitTg1n"
      },
      "source": [
        "### Para avaliarmos o comportamento da variável RENDA vamos construir uma tabela de frequências considerando as seguintes classes em salários mínimos (SM)\n",
        "\n",
        "\n",
        "Classes de renda:\n",
        "\n",
        "<b>A</b> ► Acima de 25 SM\n",
        "\n",
        "<b>B</b> ► De 15 a 25 SM\n",
        "\n",
        "<b>C</b> ► De 5 a 15 SM\n",
        "\n",
        "<b>D</b> ► De 2 a 5 SM\n",
        "\n",
        "<b>E</b> ► Até 2 SM\n",
        "\n",
        "Para construir as classes de renda considere que o salário mínimo na época da pesquisa era de <b>R$ 788,00</b>.\n",
        "\n",
        "#### Siga os passos abaixo:"
      ]
    },
    {
      "cell_type": "markdown",
      "metadata": {
        "id": "zJBkeGxiTg1o"
      },
      "source": [
        "### 1º Definir os intevalos das classes em reais (R$)"
      ]
    },
    {
      "cell_type": "code",
      "metadata": {
        "colab": {
          "base_uri": "https://localhost:8080/"
        },
        "id": "-Ct3QUj6Tg1p",
        "outputId": "913dc30d-c273-4b97-abb8-87a1c225a5ea"
      },
      "source": [
        "salario_minimo = 788\n",
        "classes_salario = [\n",
        "    dados.Renda.min(), \n",
        "    2*salario_minimo, \n",
        "    5*salario_minimo, \n",
        "    15*salario_minimo, \n",
        "    25*salario_minimo,\n",
        "    dados.Renda.max()\n",
        "    ]\n",
        "classes_salario    "
      ],
      "execution_count": 34,
      "outputs": [
        {
          "output_type": "execute_result",
          "data": {
            "text/plain": [
              "[0, 1576, 3940, 11820, 19700, 200000]"
            ]
          },
          "metadata": {
            "tags": []
          },
          "execution_count": 34
        }
      ]
    },
    {
      "cell_type": "markdown",
      "metadata": {
        "id": "dZ7X37CGTg1t"
      },
      "source": [
        "### 2º Definir os labels das classes"
      ]
    },
    {
      "cell_type": "code",
      "metadata": {
        "id": "4UFOzitTTg1u"
      },
      "source": [
        "labels = ['E', 'D', 'C', 'B', 'A']\n"
      ],
      "execution_count": 8,
      "outputs": []
    },
    {
      "cell_type": "markdown",
      "metadata": {
        "id": "umFq1o-UTg1w"
      },
      "source": [
        "### 3º Construir a coluna de frequências"
      ]
    },
    {
      "cell_type": "code",
      "metadata": {
        "colab": {
          "base_uri": "https://localhost:8080/"
        },
        "id": "uSztBoqOTg1x",
        "outputId": "428b3652-85ed-4e55-82d6-98e20df44296"
      },
      "source": [
        "frequencias = pd.value_counts(\n",
        "  pd.cut(x = dados.Renda,\n",
        "         bins = classes_salario,\n",
        "         labels = labels,\n",
        "         include_lowest = True)\n",
        ")\n",
        "frequencias"
      ],
      "execution_count": 12,
      "outputs": [
        {
          "output_type": "execute_result",
          "data": {
            "text/plain": [
              "E    49755\n",
              "D    18602\n",
              "C     7241\n",
              "B      822\n",
              "A      420\n",
              "Name: Renda, dtype: int64"
            ]
          },
          "metadata": {
            "tags": []
          },
          "execution_count": 12
        }
      ]
    },
    {
      "cell_type": "markdown",
      "metadata": {
        "id": "2k6nGUZKTg11"
      },
      "source": [
        "### 4º Construir a coluna de percentuais"
      ]
    },
    {
      "cell_type": "code",
      "metadata": {
        "colab": {
          "base_uri": "https://localhost:8080/"
        },
        "id": "rdwUABsnTg12",
        "outputId": "4237c0c5-a7ec-438d-ac9c-2a6445f44651"
      },
      "source": [
        "percentuais = pd.value_counts(\n",
        "  pd.cut(x = dados.Renda,\n",
        "         bins = classes_salario,\n",
        "         labels = labels,\n",
        "         include_lowest = True),\n",
        "  normalize=True\n",
        ")*100\n",
        "percentuais"
      ],
      "execution_count": 18,
      "outputs": [
        {
          "output_type": "execute_result",
          "data": {
            "text/plain": [
              "E    64.751432\n",
              "D    24.208745\n",
              "C     9.423477\n",
              "B     1.069755\n",
              "A     0.546590\n",
              "Name: Renda, dtype: float64"
            ]
          },
          "metadata": {
            "tags": []
          },
          "execution_count": 18
        }
      ]
    },
    {
      "cell_type": "markdown",
      "metadata": {
        "id": "9dvk6-9_Tg16"
      },
      "source": [
        "### 5º Juntar as colunas de frequência e percentuais e ordenar as linhas de acordo com os labels das classes"
      ]
    },
    {
      "cell_type": "code",
      "metadata": {
        "colab": {
          "base_uri": "https://localhost:8080/",
          "height": 202
        },
        "id": "tO_bcMmgTg16",
        "outputId": "6769b65f-a6a2-4f6e-fe6d-b20b5a6bb574"
      },
      "source": [
        "dist_freq_quantitativas_personalizadas = pd.DataFrame(\n",
        "    {'Frequência': frequencias, 'Porcentagem (%)': percentuais}\n",
        ").sort_index(ascending = False)\n",
        "dist_freq_quantitativas_personalizadas"
      ],
      "execution_count": 24,
      "outputs": [
        {
          "output_type": "execute_result",
          "data": {
            "text/html": [
              "<div>\n",
              "<style scoped>\n",
              "    .dataframe tbody tr th:only-of-type {\n",
              "        vertical-align: middle;\n",
              "    }\n",
              "\n",
              "    .dataframe tbody tr th {\n",
              "        vertical-align: top;\n",
              "    }\n",
              "\n",
              "    .dataframe thead th {\n",
              "        text-align: right;\n",
              "    }\n",
              "</style>\n",
              "<table border=\"1\" class=\"dataframe\">\n",
              "  <thead>\n",
              "    <tr style=\"text-align: right;\">\n",
              "      <th></th>\n",
              "      <th>Frequência</th>\n",
              "      <th>Porcentagem (%)</th>\n",
              "    </tr>\n",
              "  </thead>\n",
              "  <tbody>\n",
              "    <tr>\n",
              "      <th>A</th>\n",
              "      <td>420</td>\n",
              "      <td>0.546590</td>\n",
              "    </tr>\n",
              "    <tr>\n",
              "      <th>B</th>\n",
              "      <td>822</td>\n",
              "      <td>1.069755</td>\n",
              "    </tr>\n",
              "    <tr>\n",
              "      <th>C</th>\n",
              "      <td>7241</td>\n",
              "      <td>9.423477</td>\n",
              "    </tr>\n",
              "    <tr>\n",
              "      <th>D</th>\n",
              "      <td>18602</td>\n",
              "      <td>24.208745</td>\n",
              "    </tr>\n",
              "    <tr>\n",
              "      <th>E</th>\n",
              "      <td>49755</td>\n",
              "      <td>64.751432</td>\n",
              "    </tr>\n",
              "  </tbody>\n",
              "</table>\n",
              "</div>"
            ],
            "text/plain": [
              "   Frequência  Porcentagem (%)\n",
              "A         420         0.546590\n",
              "B         822         1.069755\n",
              "C        7241         9.423477\n",
              "D       18602        24.208745\n",
              "E       49755        64.751432"
            ]
          },
          "metadata": {
            "tags": []
          },
          "execution_count": 24
        }
      ]
    },
    {
      "cell_type": "markdown",
      "metadata": {
        "id": "DOYtXuSbTg18"
      },
      "source": [
        "### Construa um gráfico de barras para visualizar as informações da tabela de frequências acima"
      ]
    },
    {
      "cell_type": "code",
      "metadata": {
        "colab": {
          "base_uri": "https://localhost:8080/",
          "height": 372
        },
        "id": "e4mDPKf1Tg18",
        "outputId": "f46bb5cd-bc2a-432a-f63b-9232e404acac"
      },
      "source": [
        "_ = dist_freq_quantitativas_personalizadas['Porcentagem (%)'].plot.bar(\n",
        "    width= 1, \n",
        "    color = 'blue', \n",
        "    alpha = 0.2, \n",
        "    figsize=(12, 6))"
      ],
      "execution_count": 25,
      "outputs": [
        {
          "output_type": "display_data",
          "data": {
            "image/png": "[encoded data removed]",
            "text/plain": [
              "<Figure size 864x432 with 1 Axes>"
            ]
          },
          "metadata": {
            "tags": [],
            "needs_background": "light"
          }
        }
      ]
    },
    {
      "cell_type": "markdown",
      "metadata": {
        "id": "9ppt5JevTg1-"
      },
      "source": [
        "> ### Conclusões\n",
        "\n",
        " - Mais de 60% da população pertence a classe E (renda até 2 salários mínimos).\n",
        " - Menos de 1% da população pertence a classe A (renda superior a 25 salários mínimos)."
      ]
    },
    {
      "cell_type": "markdown",
      "metadata": {
        "id": "yt-gFm93Tg1-"
      },
      "source": [
        "### Crie um histograma para as variáveis QUANTITATIVAS de nosso dataset\n"
      ]
    },
    {
      "cell_type": "code",
      "metadata": {
        "colab": {
          "base_uri": "https://localhost:8080/",
          "height": 430
        },
        "id": "DYjq9xasTg1_",
        "outputId": "04c46cfa-070e-4425-d1fe-c848e6b353ec"
      },
      "source": [
        "ax = sns.histplot(dados.Altura, kde = False)\n",
        "\n",
        "ax.figure.set_size_inches(12, 6)\n",
        "ax.set_title('Distribuição de Frequências - Altura', fontsize=18)\n",
        "ax.set_xlabel('Metros', fontsize=14)\n",
        "ax"
      ],
      "execution_count": 27,
      "outputs": [
        {
          "output_type": "execute_result",
          "data": {
            "text/plain": [
              "<matplotlib.axes._subplots.AxesSubplot at 0x7f99d8087690>"
            ]
          },
          "metadata": {
            "tags": []
          },
          "execution_count": 27
        },
        {
          "output_type": "display_data",
          "data": {
            "image/png": "[encoded data removed]",
            "text/plain": [
              "<Figure size 864x432 with 1 Axes>"
            ]
          },
          "metadata": {
            "tags": [],
            "needs_background": "light"
          }
        }
      ]
    },
    {
      "cell_type": "code",
      "metadata": {
        "colab": {
          "base_uri": "https://localhost:8080/",
          "height": 430
        },
        "id": "uh2CWIG8Tg2A",
        "outputId": "d50cdb40-4106-4dd6-d6af-1d5901d4ce7f"
      },
      "source": [
        "ax = sns.histplot(dados.Idade, kde = False)\n",
        "\n",
        "ax.figure.set_size_inches(12, 6)\n",
        "ax.set_title('Distribuição de Frequências - Idade', fontsize=18)\n",
        "ax.set_xlabel('Anos', fontsize=14)\n",
        "ax"
      ],
      "execution_count": 30,
      "outputs": [
        {
          "output_type": "execute_result",
          "data": {
            "text/plain": [
              "<matplotlib.axes._subplots.AxesSubplot at 0x7f99d7cbf5d0>"
            ]
          },
          "metadata": {
            "tags": []
          },
          "execution_count": 30
        },
        {
          "output_type": "display_data",
          "data": {
            "image/png": "[encoded data removed]",
            "text/plain": [
              "<Figure size 864x432 with 1 Axes>"
            ]
          },
          "metadata": {
            "tags": [],
            "needs_background": "light"
          }
        }
      ]
    },
    {
      "cell_type": "code",
      "metadata": {
        "colab": {
          "base_uri": "https://localhost:8080/",
          "height": 430
        },
        "id": "s55WPk1aTg2C",
        "outputId": "3acf7db6-4009-4a90-b4ca-1d32408466a1"
      },
      "source": [
        "ax = sns.histplot(dados['Anos de Estudo'], kde = False)\n",
        "\n",
        "ax.figure.set_size_inches(12, 6)\n",
        "ax.set_title('Distribuição de Frequências - Anos de Estudo', fontsize=18)\n",
        "ax.set_xlabel('Anos', fontsize=14)\n",
        "ax"
      ],
      "execution_count": 31,
      "outputs": [
        {
          "output_type": "execute_result",
          "data": {
            "text/plain": [
              "<matplotlib.axes._subplots.AxesSubplot at 0x7f99d835f950>"
            ]
          },
          "metadata": {
            "tags": []
          },
          "execution_count": 31
        },
        {
          "output_type": "display_data",
          "data": {
            "image/png": "[encoded data removed]",
            "text/plain": [
              "<Figure size 864x432 with 1 Axes>"
            ]
          },
          "metadata": {
            "tags": [],
            "needs_background": "light"
          }
        }
      ]
    },
    {
      "cell_type": "markdown",
      "metadata": {
        "id": "w45i-qJ1Tg2E"
      },
      "source": [
        "> ### Conclusões\n",
        "\n",
        " - A distribuição de frequências da altura é praticamente simétrica com média próxima de 1.7m;\n",
        " - A distribuição de frequência da idade possui assimetria a direita, o que é esperado, considerando a pirâmide populacional do Brasil (com achatamento maior no topo que na base);\n",
        " - A distribuição de frequência de anos de estudo não se aproximam de uma distribuição normal e os 5 picos (localizados em 1, 5, 9, 12 e 16) devem estar relacionados, respectivamente, aos seguintes grupos:\n",
        "   - pessoas com pouco ou nenhum estudo;\n",
        "   - pessoas que estudaram até o 5° ano (concluíram o ensino fundamental I);\n",
        "   - pessoas que estudaram até o 9° ano (concluíram o ensino fundamental II);\n",
        "   - pessoas que terminaram o ensino médio;\n",
        "   - pessoas que cursaram faculdade."
      ]
    },
    {
      "cell_type": "markdown",
      "metadata": {
        "id": "pnAH1T5fTg2F"
      },
      "source": [
        "### Para a variável RENDA, construa um histograma somente com as informações das pessoas com rendimento até R$ 20.000,00"
      ]
    },
    {
      "cell_type": "code",
      "metadata": {
        "colab": {
          "base_uri": "https://localhost:8080/",
          "height": 430
        },
        "id": "C7zHF1vPTg2G",
        "outputId": "e18b7f39-6ffc-4bbd-877a-9b82b7382b88"
      },
      "source": [
        "renda_ate_20k = dados[dados.Renda < 20000].Renda\n",
        "\n",
        "ax = sns.histplot(renda_ate_20k, kde = False, bins=5)\n",
        "\n",
        "ax.figure.set_size_inches(12, 6)\n",
        "ax.set_title('Distribuição de Frequências - Renda abaixo de 20000', fontsize=18)\n",
        "ax.set_xlabel('R$', fontsize=14)\n",
        "ax"
      ],
      "execution_count": 41,
      "outputs": [
        {
          "output_type": "execute_result",
          "data": {
            "text/plain": [
              "<matplotlib.axes._subplots.AxesSubplot at 0x7f99d6dabb90>"
            ]
          },
          "metadata": {
            "tags": []
          },
          "execution_count": 41
        },
        {
          "output_type": "display_data",
          "data": {
            "image/png": "[encoded data removed]",
            "text/plain": [
              "<Figure size 864x432 with 1 Axes>"
            ]
          },
          "metadata": {
            "tags": [],
            "needs_background": "light"
          }
        }
      ]
    },
    {
      "cell_type": "markdown",
      "metadata": {
        "id": "vvtzLOUKTg2H"
      },
      "source": [
        "### Construa uma tabela de frequências e uma com os percentuais do cruzamento das variáveis SEXO e COR"
      ]
    },
    {
      "cell_type": "code",
      "metadata": {
        "id": "sChJRo_qTg2I"
      },
      "source": [
        "sexo = {\n",
        "    0: 'Masculino', \n",
        "    1: 'Feminino'\n",
        "}\n",
        "cor = {\n",
        "    0: 'Indígena', \n",
        "    2: 'Branca', \n",
        "    4: 'Preta', \n",
        "    6: 'Amarela', \n",
        "    8: 'Parda', \n",
        "    9: 'Sem declaração'\n",
        "}\n",
        "anos_de_estudo = {\n",
        "    1: 'Sem instrução e menos de 1 ano', \n",
        "    2: '1 ano', \n",
        "    3: '2 anos', \n",
        "    4: '3 anos', \n",
        "    5: '4 anos', \n",
        "    6: '5 anos', \n",
        "    7: '6 anos', \n",
        "    8: '7 anos', \n",
        "    9: '8 anos', \n",
        "    10: '9 anos', \n",
        "    11: '10 anos', \n",
        "    12: '11 anos', \n",
        "    13: '12 anos', \n",
        "    14: '13 anos', \n",
        "    15: '14 anos', \n",
        "    16: '15 anos ou mais', \n",
        "    17: 'Não determinados'\n",
        "}\n",
        "uf = {\n",
        "    11: 'Rondônia', \n",
        "    12: 'Acre', \n",
        "    13: 'Amazonas', \n",
        "    14: 'Roraima', \n",
        "    15: 'Pará', \n",
        "    16: 'Amapá', \n",
        "    17: 'Tocantins', \n",
        "    21: 'Maranhão', \n",
        "    22: 'Piauí', \n",
        "    23: 'Ceará', \n",
        "    24: 'Rio Grande do Norte', \n",
        "    25: 'Paraíba', \n",
        "    26: 'Pernambuco', \n",
        "    27: 'Alagoas', \n",
        "    28: 'Sergipe', \n",
        "    29: 'Bahia', \n",
        "    31: 'Minas Gerais', \n",
        "    32: 'Espírito Santo', \n",
        "    33: 'Rio de Janeiro', \n",
        "    35: 'São Paulo', \n",
        "    41: 'Paraná', \n",
        "    42: 'Santa Catarina', \n",
        "    43: 'Rio Grande do Sul', \n",
        "    50: 'Mato Grosso do Sul', \n",
        "    51: 'Mato Grosso', \n",
        "    52: 'Goiás', \n",
        "    53: 'Distrito Federal'\n",
        "}"
      ],
      "execution_count": 36,
      "outputs": []
    },
    {
      "cell_type": "code",
      "metadata": {
        "colab": {
          "base_uri": "https://localhost:8080/",
          "height": 141
        },
        "id": "KbeFXAGSTg2K",
        "outputId": "1b2e1792-454b-4a15-e6f9-2f88f7752919"
      },
      "source": [
        "frequencia = pd.crosstab(\n",
        "    dados.Sexo,\n",
        "    dados.Cor   \n",
        "    )\n",
        "frequencia.rename(index=sexo, inplace=True)\n",
        "frequencia.rename(columns=cor, inplace=True)\n",
        "frequencia"
      ],
      "execution_count": 49,
      "outputs": [
        {
          "output_type": "execute_result",
          "data": {
            "text/html": [
              "<div>\n",
              "<style scoped>\n",
              "    .dataframe tbody tr th:only-of-type {\n",
              "        vertical-align: middle;\n",
              "    }\n",
              "\n",
              "    .dataframe tbody tr th {\n",
              "        vertical-align: top;\n",
              "    }\n",
              "\n",
              "    .dataframe thead th {\n",
              "        text-align: right;\n",
              "    }\n",
              "</style>\n",
              "<table border=\"1\" class=\"dataframe\">\n",
              "  <thead>\n",
              "    <tr style=\"text-align: right;\">\n",
              "      <th>Cor</th>\n",
              "      <th>Indígena</th>\n",
              "      <th>Branca</th>\n",
              "      <th>Preta</th>\n",
              "      <th>Amarela</th>\n",
              "      <th>Parda</th>\n",
              "    </tr>\n",
              "    <tr>\n",
              "      <th>Sexo</th>\n",
              "      <th></th>\n",
              "      <th></th>\n",
              "      <th></th>\n",
              "      <th></th>\n",
              "      <th></th>\n",
              "    </tr>\n",
              "  </thead>\n",
              "  <tbody>\n",
              "    <tr>\n",
              "      <th>Masculino</th>\n",
              "      <td>256</td>\n",
              "      <td>22194</td>\n",
              "      <td>5502</td>\n",
              "      <td>235</td>\n",
              "      <td>25063</td>\n",
              "    </tr>\n",
              "    <tr>\n",
              "      <th>Feminino</th>\n",
              "      <td>101</td>\n",
              "      <td>9621</td>\n",
              "      <td>2889</td>\n",
              "      <td>117</td>\n",
              "      <td>10862</td>\n",
              "    </tr>\n",
              "  </tbody>\n",
              "</table>\n",
              "</div>"
            ],
            "text/plain": [
              "Cor        Indígena  Branca  Preta  Amarela  Parda\n",
              "Sexo                                              \n",
              "Masculino       256   22194   5502      235  25063\n",
              "Feminino        101    9621   2889      117  10862"
            ]
          },
          "metadata": {
            "tags": []
          },
          "execution_count": 49
        }
      ]
    },
    {
      "cell_type": "code",
      "metadata": {
        "colab": {
          "base_uri": "https://localhost:8080/",
          "height": 141
        },
        "id": "csL1jaeSTg2M",
        "outputId": "ccb084fc-e682-48d8-fd21-ff6d96dc7a12"
      },
      "source": [
        "percentual = pd.crosstab(\n",
        "    dados.Sexo,\n",
        "    dados.Cor, \n",
        "    normalize=True\n",
        "    )\n",
        "percentual.rename(index=sexo, inplace=True)\n",
        "percentual.rename(columns=cor, inplace=True)\n",
        "percentual*100"
      ],
      "execution_count": 50,
      "outputs": [
        {
          "output_type": "execute_result",
          "data": {
            "text/html": [
              "<div>\n",
              "<style scoped>\n",
              "    .dataframe tbody tr th:only-of-type {\n",
              "        vertical-align: middle;\n",
              "    }\n",
              "\n",
              "    .dataframe tbody tr th {\n",
              "        vertical-align: top;\n",
              "    }\n",
              "\n",
              "    .dataframe thead th {\n",
              "        text-align: right;\n",
              "    }\n",
              "</style>\n",
              "<table border=\"1\" class=\"dataframe\">\n",
              "  <thead>\n",
              "    <tr style=\"text-align: right;\">\n",
              "      <th>Cor</th>\n",
              "      <th>Indígena</th>\n",
              "      <th>Branca</th>\n",
              "      <th>Preta</th>\n",
              "      <th>Amarela</th>\n",
              "      <th>Parda</th>\n",
              "    </tr>\n",
              "    <tr>\n",
              "      <th>Sexo</th>\n",
              "      <th></th>\n",
              "      <th></th>\n",
              "      <th></th>\n",
              "      <th></th>\n",
              "      <th></th>\n",
              "    </tr>\n",
              "  </thead>\n",
              "  <tbody>\n",
              "    <tr>\n",
              "      <th>Masculino</th>\n",
              "      <td>0.333160</td>\n",
              "      <td>28.883394</td>\n",
              "      <td>7.160333</td>\n",
              "      <td>0.305830</td>\n",
              "      <td>32.617126</td>\n",
              "    </tr>\n",
              "    <tr>\n",
              "      <th>Feminino</th>\n",
              "      <td>0.131442</td>\n",
              "      <td>12.520822</td>\n",
              "      <td>3.759761</td>\n",
              "      <td>0.152264</td>\n",
              "      <td>14.135867</td>\n",
              "    </tr>\n",
              "  </tbody>\n",
              "</table>\n",
              "</div>"
            ],
            "text/plain": [
              "Cor        Indígena     Branca     Preta   Amarela      Parda\n",
              "Sexo                                                         \n",
              "Masculino  0.333160  28.883394  7.160333  0.305830  32.617126\n",
              "Feminino   0.131442  12.520822  3.759761  0.152264  14.135867"
            ]
          },
          "metadata": {
            "tags": []
          },
          "execution_count": 50
        }
      ]
    },
    {
      "cell_type": "markdown",
      "metadata": {
        "id": "2jLZmww2Tg2O"
      },
      "source": [
        "> ### Conclusões\n",
        "\n",
        " - Em ambos os sexos, para os indivíduos presentes na base de dados, a concentração de pessoas é maior entre os que se declaram pardos;\n",
        "- Para o sexo masculino, a cor com menor concentração de indivíduos é a Amarela e, para o sexo feminino, a Indígena."
      ]
    },
    {
      "cell_type": "markdown",
      "metadata": {
        "id": "Aoeayf6zTg2P"
      },
      "source": [
        "## Realize, para a variável RENDA, uma análise descritiva com as ferramentas que aprendemos em nosso treinamento"
      ]
    },
    {
      "cell_type": "markdown",
      "metadata": {
        "id": "c2CtT71oTg2P"
      },
      "source": [
        "### Obtenha a média aritimética"
      ]
    },
    {
      "cell_type": "code",
      "metadata": {
        "colab": {
          "base_uri": "https://localhost:8080/"
        },
        "id": "qlJESCU6Tg2P",
        "outputId": "b9426a05-ae6d-45ae-a8a8-2f5529ccbd58"
      },
      "source": [
        "dados.Renda.mean()"
      ],
      "execution_count": 51,
      "outputs": [
        {
          "output_type": "execute_result",
          "data": {
            "text/plain": [
              "2000.3831988547631"
            ]
          },
          "metadata": {
            "tags": []
          },
          "execution_count": 51
        }
      ]
    },
    {
      "cell_type": "markdown",
      "metadata": {
        "id": "Xd4saPBCTg2R"
      },
      "source": [
        "### Obtenha a mediana"
      ]
    },
    {
      "cell_type": "code",
      "metadata": {
        "colab": {
          "base_uri": "https://localhost:8080/"
        },
        "id": "vHTqX-UATg2R",
        "outputId": "cdb2acd6-4472-427a-c217-71a11a317337"
      },
      "source": [
        "dados.Renda.median()"
      ],
      "execution_count": 52,
      "outputs": [
        {
          "output_type": "execute_result",
          "data": {
            "text/plain": [
              "1200.0"
            ]
          },
          "metadata": {
            "tags": []
          },
          "execution_count": 52
        }
      ]
    },
    {
      "cell_type": "markdown",
      "metadata": {
        "id": "_e40rDSwTg2U"
      },
      "source": [
        "### Obtenha a moda"
      ]
    },
    {
      "cell_type": "code",
      "metadata": {
        "colab": {
          "base_uri": "https://localhost:8080/"
        },
        "id": "BFOOdYOvTg2V",
        "outputId": "55520c0b-cf46-4f8c-854c-dbcd19272358"
      },
      "source": [
        "dados.Renda.mode()"
      ],
      "execution_count": 53,
      "outputs": [
        {
          "output_type": "execute_result",
          "data": {
            "text/plain": [
              "0    788\n",
              "dtype: int64"
            ]
          },
          "metadata": {
            "tags": []
          },
          "execution_count": 53
        }
      ]
    },
    {
      "cell_type": "markdown",
      "metadata": {
        "id": "Rnr1gOCMTg2X"
      },
      "source": [
        "### Obtenha o desvio médio absoluto"
      ]
    },
    {
      "cell_type": "code",
      "metadata": {
        "colab": {
          "base_uri": "https://localhost:8080/"
        },
        "id": "TmE_1QDGTg2Y",
        "outputId": "152f6e2a-edf5-434d-de76-9dc24682c0f1"
      },
      "source": [
        "dados.Renda.mad()"
      ],
      "execution_count": 58,
      "outputs": [
        {
          "output_type": "execute_result",
          "data": {
            "text/plain": [
              "1526.4951371644931"
            ]
          },
          "metadata": {
            "tags": []
          },
          "execution_count": 58
        }
      ]
    },
    {
      "cell_type": "markdown",
      "metadata": {
        "id": "hCgV_XaQTg2Z"
      },
      "source": [
        "### Obtenha a variância"
      ]
    },
    {
      "cell_type": "code",
      "metadata": {
        "colab": {
          "base_uri": "https://localhost:8080/"
        },
        "id": "SwRgACeGTg2a",
        "outputId": "91b4f89e-5056-4135-fbc2-cde88f15894c"
      },
      "source": [
        "dados.Renda.var()"
      ],
      "execution_count": 55,
      "outputs": [
        {
          "output_type": "execute_result",
          "data": {
            "text/plain": [
              "11044906.00622118"
            ]
          },
          "metadata": {
            "tags": []
          },
          "execution_count": 55
        }
      ]
    },
    {
      "cell_type": "markdown",
      "metadata": {
        "id": "gsO6MKOcTg2c"
      },
      "source": [
        "### Obtenha o desvio-padrão"
      ]
    },
    {
      "cell_type": "code",
      "metadata": {
        "colab": {
          "base_uri": "https://localhost:8080/"
        },
        "id": "gR-LVTRYTg2d",
        "outputId": "0f3477c9-e2df-4e65-a935-716cf1e1da77"
      },
      "source": [
        "dados.Renda.std()"
      ],
      "execution_count": 56,
      "outputs": [
        {
          "output_type": "execute_result",
          "data": {
            "text/plain": [
              "3323.3877303470294"
            ]
          },
          "metadata": {
            "tags": []
          },
          "execution_count": 56
        }
      ]
    },
    {
      "cell_type": "markdown",
      "metadata": {
        "id": "vG-rdO5fTg2f"
      },
      "source": [
        "### Obtenha a média, mediana e valor máximo da variável RENDA segundo SEXO e COR\n"
      ]
    },
    {
      "cell_type": "code",
      "metadata": {
        "colab": {
          "base_uri": "https://localhost:8080/",
          "height": 264
        },
        "id": "VgxygKWXTg2g",
        "outputId": "63ae6c14-1190-4d4a-9d70-29406ae34e28"
      },
      "source": [
        "dispersao_renda = pd.crosstab(\n",
        "    dados.Cor,\n",
        "    dados.Sexo,    \n",
        "    values=dados.Renda, \n",
        "    aggfunc={'mean', 'median', 'max'}\n",
        "    )\n",
        "dispersao_renda.rename(index=cor, inplace=True)\n",
        "dispersao_renda.rename(columns=sexo, inplace=True)\n",
        "dispersao_renda"
      ],
      "execution_count": 66,
      "outputs": [
        {
          "output_type": "execute_result",
          "data": {
            "text/html": [
              "<div>\n",
              "<style scoped>\n",
              "    .dataframe tbody tr th:only-of-type {\n",
              "        vertical-align: middle;\n",
              "    }\n",
              "\n",
              "    .dataframe tbody tr th {\n",
              "        vertical-align: top;\n",
              "    }\n",
              "\n",
              "    .dataframe thead tr th {\n",
              "        text-align: left;\n",
              "    }\n",
              "\n",
              "    .dataframe thead tr:last-of-type th {\n",
              "        text-align: right;\n",
              "    }\n",
              "</style>\n",
              "<table border=\"1\" class=\"dataframe\">\n",
              "  <thead>\n",
              "    <tr>\n",
              "      <th></th>\n",
              "      <th colspan=\"2\" halign=\"left\">max</th>\n",
              "      <th colspan=\"2\" halign=\"left\">mean</th>\n",
              "      <th colspan=\"2\" halign=\"left\">median</th>\n",
              "    </tr>\n",
              "    <tr>\n",
              "      <th>Sexo</th>\n",
              "      <th>Masculino</th>\n",
              "      <th>Feminino</th>\n",
              "      <th>Masculino</th>\n",
              "      <th>Feminino</th>\n",
              "      <th>Masculino</th>\n",
              "      <th>Feminino</th>\n",
              "    </tr>\n",
              "    <tr>\n",
              "      <th>Cor</th>\n",
              "      <th></th>\n",
              "      <th></th>\n",
              "      <th></th>\n",
              "      <th></th>\n",
              "      <th></th>\n",
              "      <th></th>\n",
              "    </tr>\n",
              "  </thead>\n",
              "  <tbody>\n",
              "    <tr>\n",
              "      <th>Indígena</th>\n",
              "      <td>10000.0</td>\n",
              "      <td>120000.0</td>\n",
              "      <td>1081.710938</td>\n",
              "      <td>2464.386139</td>\n",
              "      <td>797.5</td>\n",
              "      <td>788.0</td>\n",
              "    </tr>\n",
              "    <tr>\n",
              "      <th>Branca</th>\n",
              "      <td>200000.0</td>\n",
              "      <td>100000.0</td>\n",
              "      <td>2925.744435</td>\n",
              "      <td>2109.866750</td>\n",
              "      <td>1700.0</td>\n",
              "      <td>1200.0</td>\n",
              "    </tr>\n",
              "    <tr>\n",
              "      <th>Preta</th>\n",
              "      <td>50000.0</td>\n",
              "      <td>23000.0</td>\n",
              "      <td>1603.861687</td>\n",
              "      <td>1134.596400</td>\n",
              "      <td>1200.0</td>\n",
              "      <td>800.0</td>\n",
              "    </tr>\n",
              "    <tr>\n",
              "      <th>Amarela</th>\n",
              "      <td>50000.0</td>\n",
              "      <td>20000.0</td>\n",
              "      <td>4758.251064</td>\n",
              "      <td>3027.341880</td>\n",
              "      <td>2800.0</td>\n",
              "      <td>1500.0</td>\n",
              "    </tr>\n",
              "    <tr>\n",
              "      <th>Parda</th>\n",
              "      <td>100000.0</td>\n",
              "      <td>30000.0</td>\n",
              "      <td>1659.577425</td>\n",
              "      <td>1176.758516</td>\n",
              "      <td>1200.0</td>\n",
              "      <td>800.0</td>\n",
              "    </tr>\n",
              "  </tbody>\n",
              "</table>\n",
              "</div>"
            ],
            "text/plain": [
              "               max                   mean                 median         \n",
              "Sexo     Masculino  Feminino    Masculino     Feminino Masculino Feminino\n",
              "Cor                                                                      \n",
              "Indígena   10000.0  120000.0  1081.710938  2464.386139     797.5    788.0\n",
              "Branca    200000.0  100000.0  2925.744435  2109.866750    1700.0   1200.0\n",
              "Preta      50000.0   23000.0  1603.861687  1134.596400    1200.0    800.0\n",
              "Amarela    50000.0   20000.0  4758.251064  3027.341880    2800.0   1500.0\n",
              "Parda     100000.0   30000.0  1659.577425  1176.758516    1200.0    800.0"
            ]
          },
          "metadata": {
            "tags": []
          },
          "execution_count": 66
        }
      ]
    },
    {
      "cell_type": "markdown",
      "metadata": {
        "id": "ibndm9iwTg2i"
      },
      "source": [
        "> ### Conclusões\n",
        "\n",
        " - com exceção da cor \"Indígena\" (onde temos um provavel outlier com valor de 120000), a média de renda do homem é superior a média da renda da mulher;\n",
        " - entre os indivíduos de sexo masculino, a cor indígena é a que contém a menor renda média (R\\$1081) e, para o sexo feminino, a cor preta é a que contém a menor média (R\\$1134)."
      ]
    },
    {
      "cell_type": "markdown",
      "metadata": {
        "id": "CleJ6c1rTg2i"
      },
      "source": [
        "### Obtenha as medidas de dispersão da variável RENDA segundo SEXO e COR"
      ]
    },
    {
      "cell_type": "code",
      "metadata": {
        "colab": {
          "base_uri": "https://localhost:8080/",
          "height": 264
        },
        "id": "bNv-eWZ3Tg2j",
        "outputId": "cc8c0161-8fa1-4dbe-91ff-4765bd062d02"
      },
      "source": [
        "dispersao_renda = pd.crosstab(\n",
        "    dados.Cor,\n",
        "    dados.Sexo,\n",
        "    values=dados.Renda, \n",
        "    aggfunc={'mad','var','std'}\n",
        "    )\n",
        "dispersao_renda.rename(index=cor, inplace=True)\n",
        "dispersao_renda.rename(columns=sexo, inplace=True)\n",
        "dispersao_renda"
      ],
      "execution_count": 67,
      "outputs": [
        {
          "output_type": "execute_result",
          "data": {
            "text/html": [
              "<div>\n",
              "<style scoped>\n",
              "    .dataframe tbody tr th:only-of-type {\n",
              "        vertical-align: middle;\n",
              "    }\n",
              "\n",
              "    .dataframe tbody tr th {\n",
              "        vertical-align: top;\n",
              "    }\n",
              "\n",
              "    .dataframe thead tr th {\n",
              "        text-align: left;\n",
              "    }\n",
              "\n",
              "    .dataframe thead tr:last-of-type th {\n",
              "        text-align: right;\n",
              "    }\n",
              "</style>\n",
              "<table border=\"1\" class=\"dataframe\">\n",
              "  <thead>\n",
              "    <tr>\n",
              "      <th></th>\n",
              "      <th colspan=\"2\" halign=\"left\">mad</th>\n",
              "      <th colspan=\"2\" halign=\"left\">std</th>\n",
              "      <th colspan=\"2\" halign=\"left\">var</th>\n",
              "    </tr>\n",
              "    <tr>\n",
              "      <th>Sexo</th>\n",
              "      <th>Masculino</th>\n",
              "      <th>Feminino</th>\n",
              "      <th>Masculino</th>\n",
              "      <th>Feminino</th>\n",
              "      <th>Masculino</th>\n",
              "      <th>Feminino</th>\n",
              "    </tr>\n",
              "    <tr>\n",
              "      <th>Cor</th>\n",
              "      <th></th>\n",
              "      <th></th>\n",
              "      <th></th>\n",
              "      <th></th>\n",
              "      <th></th>\n",
              "      <th></th>\n",
              "    </tr>\n",
              "  </thead>\n",
              "  <tbody>\n",
              "    <tr>\n",
              "      <th>Indígena</th>\n",
              "      <td>798.910889</td>\n",
              "      <td>3007.892952</td>\n",
              "      <td>1204.093490</td>\n",
              "      <td>11957.498292</td>\n",
              "      <td>1.449841e+06</td>\n",
              "      <td>1.429818e+08</td>\n",
              "    </tr>\n",
              "    <tr>\n",
              "      <th>Branca</th>\n",
              "      <td>2261.012346</td>\n",
              "      <td>1670.967106</td>\n",
              "      <td>4750.791872</td>\n",
              "      <td>3251.013154</td>\n",
              "      <td>2.257002e+07</td>\n",
              "      <td>1.056909e+07</td>\n",
              "    </tr>\n",
              "    <tr>\n",
              "      <th>Preta</th>\n",
              "      <td>975.602482</td>\n",
              "      <td>705.453357</td>\n",
              "      <td>1936.309271</td>\n",
              "      <td>1349.799809</td>\n",
              "      <td>3.749294e+06</td>\n",
              "      <td>1.821960e+06</td>\n",
              "    </tr>\n",
              "    <tr>\n",
              "      <th>Amarela</th>\n",
              "      <td>3709.597211</td>\n",
              "      <td>2549.146322</td>\n",
              "      <td>5740.824820</td>\n",
              "      <td>3731.173660</td>\n",
              "      <td>3.295707e+07</td>\n",
              "      <td>1.392166e+07</td>\n",
              "    </tr>\n",
              "    <tr>\n",
              "      <th>Parda</th>\n",
              "      <td>1125.827704</td>\n",
              "      <td>811.580946</td>\n",
              "      <td>2312.087184</td>\n",
              "      <td>1596.233048</td>\n",
              "      <td>5.345747e+06</td>\n",
              "      <td>2.547960e+06</td>\n",
              "    </tr>\n",
              "  </tbody>\n",
              "</table>\n",
              "</div>"
            ],
            "text/plain": [
              "                  mad               ...           var              \n",
              "Sexo        Masculino     Feminino  ...     Masculino      Feminino\n",
              "Cor                                 ...                            \n",
              "Indígena   798.910889  3007.892952  ...  1.449841e+06  1.429818e+08\n",
              "Branca    2261.012346  1670.967106  ...  2.257002e+07  1.056909e+07\n",
              "Preta      975.602482   705.453357  ...  3.749294e+06  1.821960e+06\n",
              "Amarela   3709.597211  2549.146322  ...  3.295707e+07  1.392166e+07\n",
              "Parda     1125.827704   811.580946  ...  5.345747e+06  2.547960e+06\n",
              "\n",
              "[5 rows x 6 columns]"
            ]
          },
          "metadata": {
            "tags": []
          },
          "execution_count": 67
        }
      ]
    },
    {
      "cell_type": "markdown",
      "metadata": {
        "id": "57aHvJMSTg2l"
      },
      "source": [
        "> ### Conclusões\n",
        "\n",
        " - o menor desvio padrão é encontrado no sexo feminino e cor preta;\n",
        " - o maior desvio padrão é encontrado no sexo feminino e cor indígena (onde temos um provavel outlier com valor de 120000)."
      ]
    },
    {
      "cell_type": "markdown",
      "metadata": {
        "id": "QSYjkdyOTg2l"
      },
      "source": [
        "### Construa um box plot da variável RENDA segundo SEXO e COR\n",
        "#### Mais informações: https://seaborn.pydata.org/generated/seaborn.boxplot.html"
      ]
    },
    {
      "cell_type": "code",
      "metadata": {
        "colab": {
          "base_uri": "https://localhost:8080/",
          "height": 538
        },
        "id": "8hGa4SMRTg2m",
        "outputId": "f6d4b79d-95d4-4667-a20a-4d86a1a1d6fd"
      },
      "source": [
        "renda_ate_10k = dados[dados.Renda <= 10000]\n",
        "ax = sns.boxplot(\n",
        "   x='Renda',\n",
        "   y='Cor',\n",
        "   hue='Sexo',\n",
        "   orient='horizontal',\n",
        "   data=renda_ate_10k\n",
        "   \n",
        ")\n",
        "\n",
        "\n",
        "ax.figure.set_size_inches(14, 8)    # Personalizando o tamanho da figura\n",
        "\n",
        "ax.set_title('Box-plot da RENDA por SEXO e COR', fontsize=18)    # Configurando o título do gráfico\n",
        "\n",
        "ax.set_xlabel('R$', fontsize=14)    # Configurando o label do eixo X\n",
        "\n",
        "ax.set_ylabel('Cor', fontsize=14)    # Configurando o label do eixo Y\n",
        "ax.set_yticklabels(['Indígena', 'Branca', 'Preta', 'Amarela', 'Parda', 'Sem declaração'], fontsize=12)    # Configurando o label de cada categoria do eixo Y\n",
        "\n",
        "# Configurações da legenda do gráfico (Sexo)\n",
        "handles, _ = ax.get_legend_handles_labels()\n",
        "ax.legend(handles, ['Masculino', 'Feminino'], fontsize=12)\n",
        "\n",
        "ax\n",
        "\n",
        "\n"
      ],
      "execution_count": 71,
      "outputs": [
        {
          "output_type": "execute_result",
          "data": {
            "text/plain": [
              "<matplotlib.axes._subplots.AxesSubplot at 0x7f99ca56e6d0>"
            ]
          },
          "metadata": {
            "tags": []
          },
          "execution_count": 71
        },
        {
          "output_type": "display_data",
          "data": {
            "image/png": "[encoded data removed]",
            "text/plain": [
              "<Figure size 1008x576 with 1 Axes>"
            ]
          },
          "metadata": {
            "tags": [],
            "needs_background": "light"
          }
        }
      ]
    },
    {
      "cell_type": "markdown",
      "metadata": {
        "id": "ROiIQRFhTg2o"
      },
      "source": [
        "> ### Conclusões\n",
        "\n",
        " - a visualização utilizando boxplot permite chegar as mesmas conclusões que a tabela cruzada, quanto ao rendimento entre homens e mulheres. Por exemplo, a mediana é maior para homens em todas as cores;\n",
        " - as distribuições entre homens e mulheres são distintas. A distância interquartil é maior para homens do que mulheres o que indica uma maior distribuição de valores de renda entre os homens."
      ]
    },
    {
      "cell_type": "markdown",
      "metadata": {
        "id": "zi4BaGooTg2o"
      },
      "source": [
        "# <font color=\"red\">DESAFIO<font>\n",
        "### Qual percentual de pessoas de nosso <i>dataset</i> ganham um salário mínimo (R$ 788,00) ou menos?\n",
        "#### Mais informações: https://docs.scipy.org/doc/scipy/reference/generated/scipy.stats.percentileofscore.html\n"
      ]
    },
    {
      "cell_type": "code",
      "metadata": {
        "colab": {
          "base_uri": "https://localhost:8080/"
        },
        "id": "9DwXo2yITg2p",
        "outputId": "c0751945-f248-49d6-8d09-cc18be058a1d"
      },
      "source": [
        "from scipy import stats\n",
        "\n",
        "percentual = stats.percentileofscore(\n",
        "    dados.Renda, \n",
        "    788, \n",
        "    kind='weak')\n",
        "percentual\n"
      ],
      "execution_count": 75,
      "outputs": [
        {
          "output_type": "execute_result",
          "data": {
            "text/plain": [
              "28.86777719937533"
            ]
          },
          "metadata": {
            "tags": []
          },
          "execution_count": 75
        }
      ]
    },
    {
      "cell_type": "markdown",
      "metadata": {
        "id": "bl0fOMuKTg2q"
      },
      "source": [
        "### Qual o valor máximo ganho por 99% das pessoas de nosso dataset?"
      ]
    },
    {
      "cell_type": "code",
      "metadata": {
        "colab": {
          "base_uri": "https://localhost:8080/"
        },
        "id": "cIVwy8bKTg2q",
        "outputId": "3fb19fdf-abcf-4162-f575-6f5b9edc858c"
      },
      "source": [
        "dados.Renda.quantile(0.99)\n",
        "\n"
      ],
      "execution_count": 76,
      "outputs": [
        {
          "output_type": "execute_result",
          "data": {
            "text/plain": [
              "15000.0"
            ]
          },
          "metadata": {
            "tags": []
          },
          "execution_count": 76
        }
      ]
    },
    {
      "cell_type": "markdown",
      "metadata": {
        "id": "zeRhvtngTg2r"
      },
      "source": [
        "### Obtenha a média, mediana, valor máximo e desvio-padrão da variável RENDA segundo ANOS DE ESTUDO e SEXO\n"
      ]
    },
    {
      "cell_type": "code",
      "metadata": {
        "colab": {
          "base_uri": "https://localhost:8080/",
          "height": 632
        },
        "id": "8nxGdQIpTg2s",
        "outputId": "43696784-432b-4155-9448-18481e94d146"
      },
      "source": [
        "dispersao_renda = pd.crosstab(\n",
        "    dados['Anos de Estudo'],\n",
        "    dados.Sexo,    \n",
        "    values=dados.Renda, \n",
        "    aggfunc={'mean', 'median', 'max', 'std'}\n",
        "    )\n",
        "dispersao_renda.rename(columns=sexo, inplace=True)\n",
        "dispersao_renda"
      ],
      "execution_count": 78,
      "outputs": [
        {
          "output_type": "execute_result",
          "data": {
            "text/html": [
              "<div>\n",
              "<style scoped>\n",
              "    .dataframe tbody tr th:only-of-type {\n",
              "        vertical-align: middle;\n",
              "    }\n",
              "\n",
              "    .dataframe tbody tr th {\n",
              "        vertical-align: top;\n",
              "    }\n",
              "\n",
              "    .dataframe thead tr th {\n",
              "        text-align: left;\n",
              "    }\n",
              "\n",
              "    .dataframe thead tr:last-of-type th {\n",
              "        text-align: right;\n",
              "    }\n",
              "</style>\n",
              "<table border=\"1\" class=\"dataframe\">\n",
              "  <thead>\n",
              "    <tr>\n",
              "      <th></th>\n",
              "      <th colspan=\"2\" halign=\"left\">max</th>\n",
              "      <th colspan=\"2\" halign=\"left\">mean</th>\n",
              "      <th colspan=\"2\" halign=\"left\">median</th>\n",
              "      <th colspan=\"2\" halign=\"left\">std</th>\n",
              "    </tr>\n",
              "    <tr>\n",
              "      <th>Sexo</th>\n",
              "      <th>Masculino</th>\n",
              "      <th>Feminino</th>\n",
              "      <th>Masculino</th>\n",
              "      <th>Feminino</th>\n",
              "      <th>Masculino</th>\n",
              "      <th>Feminino</th>\n",
              "      <th>Masculino</th>\n",
              "      <th>Feminino</th>\n",
              "    </tr>\n",
              "    <tr>\n",
              "      <th>Anos de Estudo</th>\n",
              "      <th></th>\n",
              "      <th></th>\n",
              "      <th></th>\n",
              "      <th></th>\n",
              "      <th></th>\n",
              "      <th></th>\n",
              "      <th></th>\n",
              "      <th></th>\n",
              "    </tr>\n",
              "  </thead>\n",
              "  <tbody>\n",
              "    <tr>\n",
              "      <th>1</th>\n",
              "      <td>30000.0</td>\n",
              "      <td>10000.0</td>\n",
              "      <td>799.494638</td>\n",
              "      <td>516.201748</td>\n",
              "      <td>700.0</td>\n",
              "      <td>390.0</td>\n",
              "      <td>1023.904884</td>\n",
              "      <td>639.311534</td>\n",
              "    </tr>\n",
              "    <tr>\n",
              "      <th>2</th>\n",
              "      <td>30000.0</td>\n",
              "      <td>2000.0</td>\n",
              "      <td>895.629047</td>\n",
              "      <td>492.771987</td>\n",
              "      <td>788.0</td>\n",
              "      <td>400.0</td>\n",
              "      <td>1331.950552</td>\n",
              "      <td>425.291842</td>\n",
              "    </tr>\n",
              "    <tr>\n",
              "      <th>3</th>\n",
              "      <td>40000.0</td>\n",
              "      <td>4000.0</td>\n",
              "      <td>931.178986</td>\n",
              "      <td>529.911638</td>\n",
              "      <td>788.0</td>\n",
              "      <td>450.0</td>\n",
              "      <td>1435.173827</td>\n",
              "      <td>498.234168</td>\n",
              "    </tr>\n",
              "    <tr>\n",
              "      <th>4</th>\n",
              "      <td>80000.0</td>\n",
              "      <td>3500.0</td>\n",
              "      <td>1109.203862</td>\n",
              "      <td>546.853916</td>\n",
              "      <td>800.0</td>\n",
              "      <td>500.0</td>\n",
              "      <td>2143.800133</td>\n",
              "      <td>424.124446</td>\n",
              "    </tr>\n",
              "    <tr>\n",
              "      <th>5</th>\n",
              "      <td>50000.0</td>\n",
              "      <td>10000.0</td>\n",
              "      <td>1302.329283</td>\n",
              "      <td>704.279111</td>\n",
              "      <td>1000.0</td>\n",
              "      <td>788.0</td>\n",
              "      <td>1419.821787</td>\n",
              "      <td>629.553397</td>\n",
              "    </tr>\n",
              "    <tr>\n",
              "      <th>6</th>\n",
              "      <td>35000.0</td>\n",
              "      <td>8000.0</td>\n",
              "      <td>1338.653218</td>\n",
              "      <td>781.389776</td>\n",
              "      <td>1045.0</td>\n",
              "      <td>788.0</td>\n",
              "      <td>1484.650587</td>\n",
              "      <td>635.782641</td>\n",
              "    </tr>\n",
              "    <tr>\n",
              "      <th>7</th>\n",
              "      <td>25000.0</td>\n",
              "      <td>6000.0</td>\n",
              "      <td>1448.875419</td>\n",
              "      <td>833.732824</td>\n",
              "      <td>1200.0</td>\n",
              "      <td>788.0</td>\n",
              "      <td>1476.628602</td>\n",
              "      <td>574.547028</td>\n",
              "    </tr>\n",
              "    <tr>\n",
              "      <th>8</th>\n",
              "      <td>40000.0</td>\n",
              "      <td>9000.0</td>\n",
              "      <td>1465.497940</td>\n",
              "      <td>830.751004</td>\n",
              "      <td>1200.0</td>\n",
              "      <td>788.0</td>\n",
              "      <td>1419.708673</td>\n",
              "      <td>602.038029</td>\n",
              "    </tr>\n",
              "    <tr>\n",
              "      <th>9</th>\n",
              "      <td>30000.0</td>\n",
              "      <td>18000.0</td>\n",
              "      <td>1639.396667</td>\n",
              "      <td>933.615351</td>\n",
              "      <td>1300.0</td>\n",
              "      <td>800.0</td>\n",
              "      <td>1515.583715</td>\n",
              "      <td>896.781213</td>\n",
              "    </tr>\n",
              "    <tr>\n",
              "      <th>10</th>\n",
              "      <td>60000.0</td>\n",
              "      <td>20000.0</td>\n",
              "      <td>1508.038850</td>\n",
              "      <td>868.021700</td>\n",
              "      <td>1200.0</td>\n",
              "      <td>788.0</td>\n",
              "      <td>2137.664774</td>\n",
              "      <td>973.221652</td>\n",
              "    </tr>\n",
              "    <tr>\n",
              "      <th>11</th>\n",
              "      <td>45000.0</td>\n",
              "      <td>6000.0</td>\n",
              "      <td>1731.270847</td>\n",
              "      <td>925.919225</td>\n",
              "      <td>1218.0</td>\n",
              "      <td>800.0</td>\n",
              "      <td>2078.609734</td>\n",
              "      <td>620.611907</td>\n",
              "    </tr>\n",
              "    <tr>\n",
              "      <th>12</th>\n",
              "      <td>200000.0</td>\n",
              "      <td>100000.0</td>\n",
              "      <td>2117.060504</td>\n",
              "      <td>1286.790889</td>\n",
              "      <td>1500.0</td>\n",
              "      <td>1000.0</td>\n",
              "      <td>2676.538942</td>\n",
              "      <td>1819.040417</td>\n",
              "    </tr>\n",
              "    <tr>\n",
              "      <th>13</th>\n",
              "      <td>30000.0</td>\n",
              "      <td>120000.0</td>\n",
              "      <td>2470.330776</td>\n",
              "      <td>1682.313725</td>\n",
              "      <td>1800.0</td>\n",
              "      <td>1200.0</td>\n",
              "      <td>2268.081538</td>\n",
              "      <td>4851.833513</td>\n",
              "    </tr>\n",
              "    <tr>\n",
              "      <th>14</th>\n",
              "      <td>25000.0</td>\n",
              "      <td>20000.0</td>\n",
              "      <td>3195.099154</td>\n",
              "      <td>1911.730047</td>\n",
              "      <td>2400.0</td>\n",
              "      <td>1300.0</td>\n",
              "      <td>2797.116800</td>\n",
              "      <td>2053.789771</td>\n",
              "    </tr>\n",
              "    <tr>\n",
              "      <th>15</th>\n",
              "      <td>50000.0</td>\n",
              "      <td>20000.0</td>\n",
              "      <td>3706.620269</td>\n",
              "      <td>2226.460457</td>\n",
              "      <td>2500.0</td>\n",
              "      <td>1600.0</td>\n",
              "      <td>3987.214974</td>\n",
              "      <td>2064.083336</td>\n",
              "    </tr>\n",
              "    <tr>\n",
              "      <th>16</th>\n",
              "      <td>200000.0</td>\n",
              "      <td>100000.0</td>\n",
              "      <td>6134.279790</td>\n",
              "      <td>3899.513231</td>\n",
              "      <td>4000.0</td>\n",
              "      <td>2800.0</td>\n",
              "      <td>7447.613594</td>\n",
              "      <td>4212.770709</td>\n",
              "    </tr>\n",
              "    <tr>\n",
              "      <th>17</th>\n",
              "      <td>7000.0</td>\n",
              "      <td>3000.0</td>\n",
              "      <td>1295.761905</td>\n",
              "      <td>798.174419</td>\n",
              "      <td>1200.0</td>\n",
              "      <td>788.0</td>\n",
              "      <td>979.648745</td>\n",
              "      <td>459.985964</td>\n",
              "    </tr>\n",
              "  </tbody>\n",
              "</table>\n",
              "</div>"
            ],
            "text/plain": [
              "                     max            ...          std             \n",
              "Sexo           Masculino  Feminino  ...    Masculino     Feminino\n",
              "Anos de Estudo                      ...                          \n",
              "1                30000.0   10000.0  ...  1023.904884   639.311534\n",
              "2                30000.0    2000.0  ...  1331.950552   425.291842\n",
              "3                40000.0    4000.0  ...  1435.173827   498.234168\n",
              "4                80000.0    3500.0  ...  2143.800133   424.124446\n",
              "5                50000.0   10000.0  ...  1419.821787   629.553397\n",
              "6                35000.0    8000.0  ...  1484.650587   635.782641\n",
              "7                25000.0    6000.0  ...  1476.628602   574.547028\n",
              "8                40000.0    9000.0  ...  1419.708673   602.038029\n",
              "9                30000.0   18000.0  ...  1515.583715   896.781213\n",
              "10               60000.0   20000.0  ...  2137.664774   973.221652\n",
              "11               45000.0    6000.0  ...  2078.609734   620.611907\n",
              "12              200000.0  100000.0  ...  2676.538942  1819.040417\n",
              "13               30000.0  120000.0  ...  2268.081538  4851.833513\n",
              "14               25000.0   20000.0  ...  2797.116800  2053.789771\n",
              "15               50000.0   20000.0  ...  3987.214974  2064.083336\n",
              "16              200000.0  100000.0  ...  7447.613594  4212.770709\n",
              "17                7000.0    3000.0  ...   979.648745   459.985964\n",
              "\n",
              "[17 rows x 8 columns]"
            ]
          },
          "metadata": {
            "tags": []
          },
          "execution_count": 78
        }
      ]
    },
    {
      "cell_type": "markdown",
      "metadata": {
        "id": "nfgbaaZz1l8h"
      },
      "source": [
        "> ### Conclusões\n",
        "\n",
        " - A renda aumenta conforme a quantidade de anos de estudo;\n",
        " - O rendimento do homem é superior ao rendimento da mulher, em qualquer quantidade de anos de estudo;\n",
        " - Ponto de destaque sobre o desequilíbrio entre homens e mulheres é que homens com 1 ano de estudo possuem média de renda superior a mulherer com 6 anos de estudo.\n"
      ]
    },
    {
      "cell_type": "markdown",
      "metadata": {
        "id": "1Rm1n7a_Tg2u"
      },
      "source": [
        "### Construa um box plot da variável RENDA segundo ANOS DE ESTUDO e SEXO\n",
        "#### Mais informações: https://seaborn.pydata.org/generated/seaborn.boxplot.html"
      ]
    },
    {
      "cell_type": "code",
      "metadata": {
        "colab": {
          "base_uri": "https://localhost:8080/",
          "height": 538
        },
        "id": "rgMU0WyJTg2v",
        "outputId": "9bd6660d-01da-4cd1-c8fd-e46bb061ad6d"
      },
      "source": [
        "renda_ate_10k = dados[dados.Renda <= 10000]\n",
        "ax = sns.boxplot(\n",
        "   x='Renda',\n",
        "   y='Anos de Estudo',\n",
        "   hue='Sexo',\n",
        "   orient='horizontal',\n",
        "   data=renda_ate_10k\n",
        "   \n",
        ")\n",
        "\n",
        "\n",
        "ax.figure.set_size_inches(14, 8)    # Personalizando o tamanho da figura\n",
        "\n",
        "ax.set_title('Box-plot da RENDA por SEXO e Anos de Estudo', fontsize=18)    # Configurando o título do gráfico\n",
        "\n",
        "ax.set_xlabel('R$', fontsize=14)    # Configurando o label do eixo X\n",
        "\n",
        "ax.set_ylabel('Anos de Estudo', fontsize=14)    # Configurando o label do eixo Y\n",
        "\n",
        "# Configurações da legenda do gráfico (Sexo)\n",
        "handles, _ = ax.get_legend_handles_labels()\n",
        "ax.legend(handles, ['Masculino', 'Feminino'], fontsize=12)\n",
        "\n",
        "ax\n"
      ],
      "execution_count": 79,
      "outputs": [
        {
          "output_type": "execute_result",
          "data": {
            "text/plain": [
              "<matplotlib.axes._subplots.AxesSubplot at 0x7f99ca91f150>"
            ]
          },
          "metadata": {
            "tags": []
          },
          "execution_count": 79
        },
        {
          "output_type": "display_data",
          "data": {
            "image/png": "[encoded data removed]",
            "text/plain": [
              "<Figure size 1008x576 with 1 Axes>"
            ]
          },
          "metadata": {
            "tags": [],
            "needs_background": "light"
          }
        }
      ]
    },
    {
      "cell_type": "code",
      "metadata": {
        "id": "C44OB-m1337Q",
        "outputId": "16bca212-7735-4ea6-e38b-c62789d17f08",
        "colab": {
          "base_uri": "https://localhost:8080/",
          "height": 538
        }
      },
      "source": [
        "renda_ate_10k_40_anos = dados[(dados.Renda <= 10000) & (dados.Idade == 40)]\n",
        "ax = sns.boxplot(\n",
        "   x='Renda',\n",
        "   y='Anos de Estudo',\n",
        "   hue='Sexo',\n",
        "   orient='horizontal',\n",
        "   data=renda_ate_10k_40_anos\n",
        "   \n",
        ")\n",
        "\n",
        "\n",
        "ax.figure.set_size_inches(14, 8)    # Personalizando o tamanho da figura\n",
        "\n",
        "ax.set_title('Box-plot da RENDA por SEXO e Anos de Estudo', fontsize=18)    # Configurando o título do gráfico\n",
        "\n",
        "ax.set_xlabel('R$', fontsize=14)    # Configurando o label do eixo X\n",
        "\n",
        "ax.set_ylabel('Anos de Estudo', fontsize=14)    # Configurando o label do eixo Y\n",
        "\n",
        "# Configurações da legenda do gráfico (Sexo)\n",
        "handles, _ = ax.get_legend_handles_labels()\n",
        "ax.legend(handles, ['Masculino', 'Feminino'], fontsize=12)\n",
        "\n",
        "ax"
      ],
      "execution_count": 83,
      "outputs": [
        {
          "output_type": "execute_result",
          "data": {
            "text/plain": [
              "<matplotlib.axes._subplots.AxesSubplot at 0x7f99c9fbf110>"
            ]
          },
          "metadata": {
            "tags": []
          },
          "execution_count": 83
        },
        {
          "output_type": "display_data",
          "data": {
            "image/png": "[encoded data removed]",
            "text/plain": [
              "<Figure size 1008x576 with 1 Axes>"
            ]
          },
          "metadata": {
            "tags": [],
            "needs_background": "light"
          }
        }
      ]
    },
    {
      "cell_type": "code",
      "metadata": {
        "id": "c3Otx-rC4pH2",
        "outputId": "5f65c3a5-e9aa-414b-bb3b-0fd0a46b8d15",
        "colab": {
          "base_uri": "https://localhost:8080/",
          "height": 538
        }
      },
      "source": [
        "renda_ate_10k_50_anos = dados[(dados.Renda <= 10000) & (dados.Idade == 50)]\n",
        "ax = sns.boxplot(\n",
        "   x='Renda',\n",
        "   y='Anos de Estudo',\n",
        "   hue='Sexo',\n",
        "   orient='horizontal',\n",
        "   data=renda_ate_10k_50_anos\n",
        "   \n",
        ")\n",
        "\n",
        "\n",
        "ax.figure.set_size_inches(14, 8)    # Personalizando o tamanho da figura\n",
        "\n",
        "ax.set_title('Box-plot da RENDA por SEXO e Anos de Estudo', fontsize=18)    # Configurando o título do gráfico\n",
        "\n",
        "ax.set_xlabel('R$', fontsize=14)    # Configurando o label do eixo X\n",
        "\n",
        "ax.set_ylabel('Anos de Estudo', fontsize=14)    # Configurando o label do eixo Y\n",
        "\n",
        "# Configurações da legenda do gráfico (Sexo)\n",
        "handles, _ = ax.get_legend_handles_labels()\n",
        "ax.legend(handles, ['Masculino', 'Feminino'], fontsize=12)\n",
        "\n",
        "ax"
      ],
      "execution_count": 84,
      "outputs": [
        {
          "output_type": "execute_result",
          "data": {
            "text/plain": [
              "<matplotlib.axes._subplots.AxesSubplot at 0x7f99ca348fd0>"
            ]
          },
          "metadata": {
            "tags": []
          },
          "execution_count": 84
        },
        {
          "output_type": "display_data",
          "data": {
            "image/png": "[encoded data removed]",
            "text/plain": [
              "<Figure size 1008x576 with 1 Axes>"
            ]
          },
          "metadata": {
            "tags": [],
            "needs_background": "light"
          }
        }
      ]
    },
    {
      "cell_type": "markdown",
      "metadata": {
        "id": "LrEECOmNTg2w"
      },
      "source": [
        "> ### Conclusões\n",
        "\n",
        " - As desigualdades entre mulheres e homens também se verificam para pessoas com a mesma idade (os dois últimos boxplots permitem ou facilitam esta conclusão)"
      ]
    },
    {
      "cell_type": "markdown",
      "metadata": {
        "id": "0fIFSxj8Tg2x"
      },
      "source": [
        "### Obtenha a média, mediana, valor máximo e desvio-padrão da variável RENDA segundo as UNIDADES DA FEDERAÇÃO\n"
      ]
    },
    {
      "cell_type": "code",
      "metadata": {
        "colab": {
          "base_uri": "https://localhost:8080/",
          "height": 938
        },
        "id": "91IxQFJoTg2x",
        "outputId": "83b95079-0e7c-42e1-aab6-cb709a7cae61"
      },
      "source": [
        "renda_por_uf = dados.groupby(['UF']).agg({'Renda': ['mean', 'median', 'max', 'std']})\n",
        "renda_por_uf.rename(index=uf, inplace=True)\n",
        "renda_por_uf"
      ],
      "execution_count": 87,
      "outputs": [
        {
          "output_type": "execute_result",
          "data": {
            "text/html": [
              "<div>\n",
              "<style scoped>\n",
              "    .dataframe tbody tr th:only-of-type {\n",
              "        vertical-align: middle;\n",
              "    }\n",
              "\n",
              "    .dataframe tbody tr th {\n",
              "        vertical-align: top;\n",
              "    }\n",
              "\n",
              "    .dataframe thead tr th {\n",
              "        text-align: left;\n",
              "    }\n",
              "\n",
              "    .dataframe thead tr:last-of-type th {\n",
              "        text-align: right;\n",
              "    }\n",
              "</style>\n",
              "<table border=\"1\" class=\"dataframe\">\n",
              "  <thead>\n",
              "    <tr>\n",
              "      <th></th>\n",
              "      <th colspan=\"4\" halign=\"left\">Renda</th>\n",
              "    </tr>\n",
              "    <tr>\n",
              "      <th></th>\n",
              "      <th>mean</th>\n",
              "      <th>median</th>\n",
              "      <th>max</th>\n",
              "      <th>std</th>\n",
              "    </tr>\n",
              "    <tr>\n",
              "      <th>UF</th>\n",
              "      <th></th>\n",
              "      <th></th>\n",
              "      <th></th>\n",
              "      <th></th>\n",
              "    </tr>\n",
              "  </thead>\n",
              "  <tbody>\n",
              "    <tr>\n",
              "      <th>Rondônia</th>\n",
              "      <td>1789.761223</td>\n",
              "      <td>1200</td>\n",
              "      <td>50000</td>\n",
              "      <td>2406.161161</td>\n",
              "    </tr>\n",
              "    <tr>\n",
              "      <th>Acre</th>\n",
              "      <td>1506.091782</td>\n",
              "      <td>900</td>\n",
              "      <td>30000</td>\n",
              "      <td>2276.233415</td>\n",
              "    </tr>\n",
              "    <tr>\n",
              "      <th>Amazonas</th>\n",
              "      <td>1445.130100</td>\n",
              "      <td>900</td>\n",
              "      <td>22000</td>\n",
              "      <td>1757.935591</td>\n",
              "    </tr>\n",
              "    <tr>\n",
              "      <th>Roraima</th>\n",
              "      <td>1783.588889</td>\n",
              "      <td>1000</td>\n",
              "      <td>20000</td>\n",
              "      <td>2079.659238</td>\n",
              "    </tr>\n",
              "    <tr>\n",
              "      <th>Pará</th>\n",
              "      <td>1399.076871</td>\n",
              "      <td>850</td>\n",
              "      <td>50000</td>\n",
              "      <td>2053.779555</td>\n",
              "    </tr>\n",
              "    <tr>\n",
              "      <th>Amapá</th>\n",
              "      <td>1861.353516</td>\n",
              "      <td>1200</td>\n",
              "      <td>15580</td>\n",
              "      <td>2020.688632</td>\n",
              "    </tr>\n",
              "    <tr>\n",
              "      <th>Tocantins</th>\n",
              "      <td>1771.094946</td>\n",
              "      <td>1000</td>\n",
              "      <td>60000</td>\n",
              "      <td>2934.590741</td>\n",
              "    </tr>\n",
              "    <tr>\n",
              "      <th>Maranhão</th>\n",
              "      <td>1019.432009</td>\n",
              "      <td>700</td>\n",
              "      <td>30000</td>\n",
              "      <td>1887.816905</td>\n",
              "    </tr>\n",
              "    <tr>\n",
              "      <th>Piauí</th>\n",
              "      <td>1074.550784</td>\n",
              "      <td>750</td>\n",
              "      <td>40000</td>\n",
              "      <td>2373.355726</td>\n",
              "    </tr>\n",
              "    <tr>\n",
              "      <th>Ceará</th>\n",
              "      <td>1255.403692</td>\n",
              "      <td>789</td>\n",
              "      <td>25000</td>\n",
              "      <td>1821.963536</td>\n",
              "    </tr>\n",
              "    <tr>\n",
              "      <th>Rio Grande do Norte</th>\n",
              "      <td>1344.721480</td>\n",
              "      <td>800</td>\n",
              "      <td>15500</td>\n",
              "      <td>1651.805500</td>\n",
              "    </tr>\n",
              "    <tr>\n",
              "      <th>Paraíba</th>\n",
              "      <td>1293.370487</td>\n",
              "      <td>788</td>\n",
              "      <td>30000</td>\n",
              "      <td>1950.272431</td>\n",
              "    </tr>\n",
              "    <tr>\n",
              "      <th>Pernambuco</th>\n",
              "      <td>1527.079319</td>\n",
              "      <td>900</td>\n",
              "      <td>50000</td>\n",
              "      <td>2389.622497</td>\n",
              "    </tr>\n",
              "    <tr>\n",
              "      <th>Alagoas</th>\n",
              "      <td>1144.552602</td>\n",
              "      <td>788</td>\n",
              "      <td>11000</td>\n",
              "      <td>1237.856197</td>\n",
              "    </tr>\n",
              "    <tr>\n",
              "      <th>Sergipe</th>\n",
              "      <td>1109.111111</td>\n",
              "      <td>788</td>\n",
              "      <td>16000</td>\n",
              "      <td>1478.997878</td>\n",
              "    </tr>\n",
              "    <tr>\n",
              "      <th>Bahia</th>\n",
              "      <td>1429.645094</td>\n",
              "      <td>800</td>\n",
              "      <td>200000</td>\n",
              "      <td>3507.917248</td>\n",
              "    </tr>\n",
              "    <tr>\n",
              "      <th>Minas Gerais</th>\n",
              "      <td>2056.432084</td>\n",
              "      <td>1200</td>\n",
              "      <td>100000</td>\n",
              "      <td>3584.721547</td>\n",
              "    </tr>\n",
              "    <tr>\n",
              "      <th>Espírito Santo</th>\n",
              "      <td>2026.383852</td>\n",
              "      <td>1274</td>\n",
              "      <td>100000</td>\n",
              "      <td>3513.846868</td>\n",
              "    </tr>\n",
              "    <tr>\n",
              "      <th>Rio de Janeiro</th>\n",
              "      <td>2496.403168</td>\n",
              "      <td>1400</td>\n",
              "      <td>200000</td>\n",
              "      <td>5214.583518</td>\n",
              "    </tr>\n",
              "    <tr>\n",
              "      <th>São Paulo</th>\n",
              "      <td>2638.104986</td>\n",
              "      <td>1600</td>\n",
              "      <td>80000</td>\n",
              "      <td>3503.777366</td>\n",
              "    </tr>\n",
              "    <tr>\n",
              "      <th>Paraná</th>\n",
              "      <td>2493.870753</td>\n",
              "      <td>1500</td>\n",
              "      <td>200000</td>\n",
              "      <td>4302.937995</td>\n",
              "    </tr>\n",
              "    <tr>\n",
              "      <th>Santa Catarina</th>\n",
              "      <td>2470.854945</td>\n",
              "      <td>1800</td>\n",
              "      <td>80000</td>\n",
              "      <td>3137.651112</td>\n",
              "    </tr>\n",
              "    <tr>\n",
              "      <th>Rio Grande do Sul</th>\n",
              "      <td>2315.158336</td>\n",
              "      <td>1500</td>\n",
              "      <td>35000</td>\n",
              "      <td>2913.335783</td>\n",
              "    </tr>\n",
              "    <tr>\n",
              "      <th>Mato Grosso do Sul</th>\n",
              "      <td>2262.604167</td>\n",
              "      <td>1500</td>\n",
              "      <td>42000</td>\n",
              "      <td>3031.419122</td>\n",
              "    </tr>\n",
              "    <tr>\n",
              "      <th>Mato Grosso</th>\n",
              "      <td>2130.652778</td>\n",
              "      <td>1500</td>\n",
              "      <td>35000</td>\n",
              "      <td>2542.630178</td>\n",
              "    </tr>\n",
              "    <tr>\n",
              "      <th>Goiás</th>\n",
              "      <td>1994.580794</td>\n",
              "      <td>1500</td>\n",
              "      <td>30000</td>\n",
              "      <td>2221.933065</td>\n",
              "    </tr>\n",
              "    <tr>\n",
              "      <th>Distrito Federal</th>\n",
              "      <td>4241.954722</td>\n",
              "      <td>2000</td>\n",
              "      <td>100000</td>\n",
              "      <td>5550.463338</td>\n",
              "    </tr>\n",
              "  </tbody>\n",
              "</table>\n",
              "</div>"
            ],
            "text/plain": [
              "                           Renda                            \n",
              "                            mean median     max          std\n",
              "UF                                                          \n",
              "Rondônia             1789.761223   1200   50000  2406.161161\n",
              "Acre                 1506.091782    900   30000  2276.233415\n",
              "Amazonas             1445.130100    900   22000  1757.935591\n",
              "Roraima              1783.588889   1000   20000  2079.659238\n",
              "Pará                 1399.076871    850   50000  2053.779555\n",
              "Amapá                1861.353516   1200   15580  2020.688632\n",
              "Tocantins            1771.094946   1000   60000  2934.590741\n",
              "Maranhão             1019.432009    700   30000  1887.816905\n",
              "Piauí                1074.550784    750   40000  2373.355726\n",
              "Ceará                1255.403692    789   25000  1821.963536\n",
              "Rio Grande do Norte  1344.721480    800   15500  1651.805500\n",
              "Paraíba              1293.370487    788   30000  1950.272431\n",
              "Pernambuco           1527.079319    900   50000  2389.622497\n",
              "Alagoas              1144.552602    788   11000  1237.856197\n",
              "Sergipe              1109.111111    788   16000  1478.997878\n",
              "Bahia                1429.645094    800  200000  3507.917248\n",
              "Minas Gerais         2056.432084   1200  100000  3584.721547\n",
              "Espírito Santo       2026.383852   1274  100000  3513.846868\n",
              "Rio de Janeiro       2496.403168   1400  200000  5214.583518\n",
              "São Paulo            2638.104986   1600   80000  3503.777366\n",
              "Paraná               2493.870753   1500  200000  4302.937995\n",
              "Santa Catarina       2470.854945   1800   80000  3137.651112\n",
              "Rio Grande do Sul    2315.158336   1500   35000  2913.335783\n",
              "Mato Grosso do Sul   2262.604167   1500   42000  3031.419122\n",
              "Mato Grosso          2130.652778   1500   35000  2542.630178\n",
              "Goiás                1994.580794   1500   30000  2221.933065\n",
              "Distrito Federal     4241.954722   2000  100000  5550.463338"
            ]
          },
          "metadata": {
            "tags": []
          },
          "execution_count": 87
        }
      ]
    },
    {
      "cell_type": "markdown",
      "metadata": {
        "id": "7srNBJCj7Ycb"
      },
      "source": [
        "> ### Conclusões\n",
        "\n",
        " - Distrito federal é onde temos a maior média de renda;\n",
        " - Estados da região sul e sudeste apresentam médias de renda superiores aos estados das regiões norte e nordeste."
      ]
    },
    {
      "cell_type": "markdown",
      "metadata": {
        "id": "6NfAKimkTg2y"
      },
      "source": [
        "### Construa um box plot da variável RENDA segundo as UNIDADES DA FEDERAÇÃO"
      ]
    },
    {
      "cell_type": "code",
      "metadata": {
        "colab": {
          "base_uri": "https://localhost:8080/",
          "height": 538
        },
        "id": "XdEGG3blTg2z",
        "outputId": "5acb3e2e-2a5f-429e-8baa-bd2f0929ce47"
      },
      "source": [
        "renda_ate_10k = dados[dados.Renda <= 10000]\n",
        "ax = sns.boxplot(\n",
        "   x='Renda',\n",
        "   y='UF',\n",
        "   orient='horizontal',\n",
        "   data=renda_ate_10k\n",
        ")\n",
        "\n",
        "\n",
        "ax.figure.set_size_inches(14, 8)    # Personalizando o tamanho da figura\n",
        "\n",
        "ax.set_title('Box-plot da RENDA por UF', fontsize=18)    # Configurando o título do gráfico\n",
        "\n",
        "ax.set_xlabel('R$', fontsize=14)    # Configurando o label do eixo X\n",
        "\n",
        "ax.set_ylabel('Estados', fontsize=14)    # Configurando o label do eixo Y\n",
        "ax.set_yticklabels([key for key in uf.values()], fontsize=12)    # Configurando o label de cada categoria do eixo Y\n",
        "\n",
        "ax"
      ],
      "execution_count": 90,
      "outputs": [
        {
          "output_type": "execute_result",
          "data": {
            "text/plain": [
              "<matplotlib.axes._subplots.AxesSubplot at 0x7f99c80ea550>"
            ]
          },
          "metadata": {
            "tags": []
          },
          "execution_count": 90
        },
        {
          "output_type": "display_data",
          "data": {
            "image/png": "[encoded data removed]",
            "text/plain": [
              "<Figure size 1008x576 with 1 Axes>"
            ]
          },
          "metadata": {
            "tags": [],
            "needs_background": "light"
          }
        }
      ]
    },
    {
      "cell_type": "markdown",
      "metadata": {
        "id": "7ssOt3MRTg22"
      },
      "source": [
        "> ### Conclusões\n",
        "\n",
        " - Distrito federal é onde temos a maior mediana de renda;\n",
        " - Estados da região sul e sudeste apresentam médias de renda superiores aos estados das regiões norte e nordeste."
      ]
    }
  ]
}
